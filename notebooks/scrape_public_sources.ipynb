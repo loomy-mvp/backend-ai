{
 "cells": [
  {
   "cell_type": "code",
   "execution_count": 1,
   "id": "21e5f767",
   "metadata": {},
   "outputs": [],
   "source": [
    "from ladle.ladle import Ladle\n",
    "from dataclasses import dataclass\n",
    "import requests\n",
    "from io import BytesIO\n",
    "import fitz  # PyMuPDF\n",
    "import time\n",
    "from selenium.webdriver.support.ui import WebDriverWait\n",
    "from selenium.webdriver.support import expected_conditions as EC\n",
    "from selenium.webdriver.common.by import By"
   ]
  },
  {
   "cell_type": "code",
   "execution_count": 2,
   "id": "5f0e56b9",
   "metadata": {},
   "outputs": [],
   "source": [
    "def extract_pdf_content(doc_url):\n",
    "    \"\"\"\n",
    "    Extract PDF content using PyMuPDF (fitz) - handles complex layouts well\n",
    "    \"\"\"\n",
    "    pdf_resp = requests.get(doc_url)\n",
    "    pdf_bytes = pdf_resp.content\n",
    "    \n",
    "    pdf_text = None\n",
    "    try:\n",
    "        # Open PDF from bytes\n",
    "        pdf_doc = fitz.open(stream=pdf_bytes, filetype=\"pdf\")\n",
    "        \n",
    "        # Extract text from all pages\n",
    "        text_pages = []\n",
    "        for page_num in range(pdf_doc.page_count):\n",
    "            page = pdf_doc[page_num]\n",
    "            # Extract text - this preserves layout better than PyPDF2\n",
    "            page_text = page.get_text()\n",
    "            if page_text.strip():  # Only add non-empty pages\n",
    "                text_pages.append(page_text)\n",
    "                \n",
    "        # Join all pages\n",
    "        pdf_text = \"\\n\\n\".join(text_pages) if text_pages else None\n",
    "        # Close the document\n",
    "        pdf_doc.close()\n",
    "        \n",
    "    except Exception as e:\n",
    "        print(f\"Failed to extract text from PDF: {e}\")\n",
    "        pdf_text = None\n",
    "    \n",
    "    return {'pdf_text': pdf_text, 'pdf_bytes': pdf_bytes}"
   ]
  },
  {
   "cell_type": "code",
   "execution_count": 3,
   "id": "89e6def9",
   "metadata": {
    "slideshow": {
     "slide_type": "fragment"
    }
   },
   "outputs": [
    {
     "data": {
      "text/plain": [
       "'\\nFonti in ordine di importanza\\n\\n1 Norme e leggi (sito del parlamento, parte fiscale codice civile, testo unico)\\n2 risoluzioni (risposte ufficiali di agenzia delle entrate - non sono leggi, sono anche in s24h)\\n3 commenti (libri, pubblicazioni sole24ore con testi di pubblicisti, eutechne)\\n4 interpelli (agenzia risponde ad una domanda per futuri altri richiedenti) pubblica\\n5 sentenze (cassazione, livello provinciale o regionale) alla pari degli interpelli, siti a pagamento. Forse agenzia entrate ha obbligo di pubblicare tutte le sentenze (di tipo commissione tributaria)\\n'"
      ]
     },
     "execution_count": 3,
     "metadata": {},
     "output_type": "execute_result"
    }
   ],
   "source": [
    "\"\"\"\n",
    "1. Norme e leggi\n",
    "https://www.parlamento.it/Parlamento/519\n",
    "https://www.giustizia-amministrativa.it/il-codice-del-processo-amministrativo1,\n",
    "https://www.giustizia-amministrativa.it/web/guest/codice-dei-contratti-pubblici-approvato-con-d.lgs.-31-marzo-2023-n.-36,\n",
    "# Plus: link diretti alle fonti delle leggi individuate\n",
    "\n",
    "2. Risoluzioni, Circolari e Provvedimenti del Direttore dell'Agenzia delle Entrate\n",
    "https://www.agenziaentrate.gov.it/portale/normativa-e-prassi/risoluzioni/archivio-risoluzioni\n",
    "https://www.agenziaentrate.gov.it/portale/web/guest/normativa-e-prassi/circolari/archivio-circolari\n",
    "https://www.agenziaentrate.gov.it/portale/web/guest/archivio/normativa-prassi-archivio-documentazione/provvedimenti/provvedimenti-soggetti\n",
    "https://www.agenziaentrate.gov.it/portale/archivio/normativa-prassi-archivio-documentazione/provvedimenti/altri-provvedimenti-non-soggetti\n",
    "\n",
    "3. Commenti\n",
    "# Piattaforma Valore24 o Eutekne o others\n",
    "\n",
    "4. Interpelli\n",
    "https://www.agenziaentrate.gov.it/portale/normativa-e-prassi/risposte-agli-interpelli/interpelli/archivio-interpelli\n",
    "https://www.agenziaentrate.gov.it/portale/web/guest/archivio-istanze-di-interpello-sui-nuovi-investimenti\n",
    "https://www.agenziaentrate.gov.it/portale/normativa-e-prassi/risposte-agli-interpelli/principi-di-diritto/archivio-principi-di-diritto\n",
    "https://www.agenziaentrate.gov.it/portale/normativa-e-prassi/risposte-agli-interpelli/risposte-alle-istanze-di-consulenza-giuridica/archivio-risposte-alle-istanze-di-consulenza-giuridica\n",
    "\n",
    "5. Sentenze\n",
    "https://www.italgiure.giustizia.it/sncass/ (corte cassaz.)\n",
    "\n",
    "6. Altre fonti\n",
    "https://www.odcec.mi.it/aree-tematiche/formazione/quaderni\n",
    "https://www.odcec.mi.it/lordine/centro-studi-odcec-milano/2\n",
    "\"\"\"\n",
    "\n",
    "\"\"\"\n",
    "Fonti in ordine di importanza\n",
    "\n",
    "1 Norme e leggi (sito del parlamento, parte fiscale codice civile, testo unico)\n",
    "2 risoluzioni (risposte ufficiali di agenzia delle entrate - non sono leggi, sono anche in s24h)\n",
    "3 commenti (libri, pubblicazioni sole24ore con testi di pubblicisti, eutechne)\n",
    "4 interpelli (agenzia risponde ad una domanda per futuri altri richiedenti) pubblica\n",
    "5 sentenze (cassazione, livello provinciale o regionale) alla pari degli interpelli, siti a pagamento. Forse agenzia entrate ha obbligo di pubblicare tutte le sentenze (di tipo commissione tributaria)\n",
    "\"\"\""
   ]
  },
  {
   "cell_type": "code",
   "execution_count": 4,
   "id": "aba5c2a1",
   "metadata": {},
   "outputs": [],
   "source": [
    "ladle = Ladle(headless=False)"
   ]
  },
  {
   "cell_type": "code",
   "execution_count": 8,
   "id": "ca151ffa",
   "metadata": {},
   "outputs": [
    {
     "name": "stdout",
     "output_type": "stream",
     "text": [
      "Site opened with no popup showing\n"
     ]
    }
   ],
   "source": [
    "ladle.driver.get(\"https://www.agenziaentrate.gov.it/portale/web/guest/archivio/normativa-prassi-archivio-documentazione/provvedimenti/provvedimenti-soggetti\")\n",
    "try:\n",
    "    ladle.clicks.click('//*[@id=\"closePopup\"]')\n",
    "except Exception as e:\n",
    "    print(f\"Site opened with no popup showing\")"
   ]
  },
  {
   "cell_type": "code",
   "execution_count": 15,
   "id": "b4af511e",
   "metadata": {},
   "outputs": [
    {
     "name": "stdout",
     "output_type": "stream",
     "text": [
      "Site opened with no popup showing\n",
      "Modalità e termini di comunicazione delle opzioni per l’applicazione dell’imposta sostitutiva per annualità ancora accertabili per i soggetti che aderiscono al concordato preventivo biennale is not a PDF, stepping into folder...\n",
      "Modalità e termini di comunicazione delle opzioni per l’applicazione dell’imposta sostitutiva per annualità ancora accertabili per i soggetti che aderiscono al concordato preventivo biennale is not a PDF, stepping into folder...\n",
      "Approvazione del modello di notifica per l’individuazione del soggetto tenuto a presentare la comunicazione rilevante, di cui all’articolo 3 del decreto del Vice Ministro dell’Economia e delle finanze del 25 febbraio 2025, e definizione delle relative modalità di trasmissione is not a PDF, stepping into folder...\n",
      "Approvazione del modello di notifica per l’individuazione del soggetto tenuto a presentare la comunicazione rilevante, di cui all’articolo 3 del decreto del Vice Ministro dell’Economia e delle finanze del 25 febbraio 2025, e definizione delle relative modalità di trasmissione is not a PDF, stepping into folder...\n"
     ]
    },
    {
     "ename": "ElementClickInterceptedException",
     "evalue": "Message: element click intercepted: Element is not clickable at point (784, 662)\n  (Session info: chrome=140.0.7339.128); For documentation on this error, please visit: https://www.selenium.dev/documentation/webdriver/troubleshooting/errors#elementclickinterceptedexception\nStacktrace:\n\tGetHandleVerifier [0x0xc70c13+66051]\n\tGetHandleVerifier [0x0xc70c54+66116]\n\t(No symbol) [0x0xa4db33]\n\t(No symbol) [0x0xa9dd90]\n\t(No symbol) [0x0xa9c0f3]\n\t(No symbol) [0x0xa99ba7]\n\t(No symbol) [0x0xa98e2d]\n\t(No symbol) [0x0xa8d335]\n\t(No symbol) [0x0xab9f8c]\n\t(No symbol) [0x0xa8cd94]\n\t(No symbol) [0x0xaba144]\n\t(No symbol) [0x0xadb7f1]\n\t(No symbol) [0x0xab9d86]\n\t(No symbol) [0x0xa8b53e]\n\t(No symbol) [0x0xa8c414]\n\tGetHandleVerifier [0x0xeb8a13+2457603]\n\tGetHandleVerifier [0x0xeb39d2+2437058]\n\tGetHandleVerifier [0x0xc997f2+232930]\n\tGetHandleVerifier [0x0xc89a18+167944]\n\tGetHandleVerifier [0x0xc9092d+196381]\n\tGetHandleVerifier [0x0xc78ee8+99544]\n\tGetHandleVerifier [0x0xc79082+99954]\n\tGetHandleVerifier [0x0xc6322a+10266]\n\tBaseThreadInitThunk [0x0x76285d49+25]\n\tRtlInitializeExceptionChain [0x0x771ed6db+107]\n\tRtlGetAppContainerNamedObjectPath [0x0x771ed661+561]\n",
     "output_type": "error",
     "traceback": [
      "\u001b[31m---------------------------------------------------------------------------\u001b[39m",
      "\u001b[31mElementClickInterceptedException\u001b[39m          Traceback (most recent call last)",
      "\u001b[36mCell\u001b[39m\u001b[36m \u001b[39m\u001b[32mIn[15]\u001b[39m\u001b[32m, line 50\u001b[39m\n\u001b[32m     47\u001b[39m \u001b[38;5;66;03m# Save current doc list page URL to return to after visiting the folder\u001b[39;00m\n\u001b[32m     48\u001b[39m doc_list_page_url = ladle.driver.current_url\n\u001b[32m---> \u001b[39m\u001b[32m50\u001b[39m \u001b[43mladle\u001b[49m\u001b[43m.\u001b[49m\u001b[43mclicks\u001b[49m\u001b[43m.\u001b[49m\u001b[43mclick\u001b[49m\u001b[43m(\u001b[49m\u001b[43mdoc_xpath\u001b[49m\u001b[43m)\u001b[49m\n\u001b[32m     52\u001b[39m \u001b[38;5;66;03m# Explore folder contents\u001b[39;00m\n\u001b[32m     53\u001b[39m elements = ladle.elements.elements(\u001b[33m'\u001b[39m\u001b[33m//*[@id=\u001b[39m\u001b[33m\"\u001b[39m\u001b[33mportlet_com_liferay_asset_publisher_web_portlet_AssetPublisherPortlet_INSTANCE_enri\u001b[39m\u001b[33m\"\u001b[39m\u001b[33m]/div/div[2]/div/div/div[2]/div/div/ul/li[*]/a\u001b[39m\u001b[33m'\u001b[39m)\n",
      "\u001b[36mFile \u001b[39m\u001b[32mc:\\Users\\leoac\\Work\\Companies\\Loomy\\.venv\\Lib\\site-packages\\ladle\\ladle.py:28\u001b[39m, in \u001b[36mClicks.click\u001b[39m\u001b[34m(self, xpath, timeout)\u001b[39m\n\u001b[32m     24\u001b[39m \u001b[38;5;28;01mdef\u001b[39;00m\u001b[38;5;250m \u001b[39m\u001b[34mclick\u001b[39m(\u001b[38;5;28mself\u001b[39m, xpath: \u001b[38;5;28mstr\u001b[39m, timeout: \u001b[38;5;28mfloat\u001b[39m = \u001b[32m10\u001b[39m):\n\u001b[32m     25\u001b[39m     el = WebDriverWait(\u001b[38;5;28mself\u001b[39m.driver, timeout).until(\n\u001b[32m     26\u001b[39m         EC.presence_of_element_located((By.XPATH, xpath))\n\u001b[32m     27\u001b[39m     )\n\u001b[32m---> \u001b[39m\u001b[32m28\u001b[39m     \u001b[43mel\u001b[49m\u001b[43m.\u001b[49m\u001b[43mclick\u001b[49m\u001b[43m(\u001b[49m\u001b[43m)\u001b[49m\n",
      "\u001b[36mFile \u001b[39m\u001b[32mc:\\Users\\leoac\\Work\\Companies\\Loomy\\.venv\\Lib\\site-packages\\selenium\\webdriver\\remote\\webelement.py:120\u001b[39m, in \u001b[36mWebElement.click\u001b[39m\u001b[34m(self)\u001b[39m\n\u001b[32m    112\u001b[39m \u001b[38;5;28;01mdef\u001b[39;00m\u001b[38;5;250m \u001b[39m\u001b[34mclick\u001b[39m(\u001b[38;5;28mself\u001b[39m) -> \u001b[38;5;28;01mNone\u001b[39;00m:\n\u001b[32m    113\u001b[39m \u001b[38;5;250m    \u001b[39m\u001b[33;03m\"\"\"Clicks the element.\u001b[39;00m\n\u001b[32m    114\u001b[39m \n\u001b[32m    115\u001b[39m \u001b[33;03m    Example:\u001b[39;00m\n\u001b[32m   (...)\u001b[39m\u001b[32m    118\u001b[39m \u001b[33;03m    >>> element.click()\u001b[39;00m\n\u001b[32m    119\u001b[39m \u001b[33;03m    \"\"\"\u001b[39;00m\n\u001b[32m--> \u001b[39m\u001b[32m120\u001b[39m     \u001b[38;5;28;43mself\u001b[39;49m\u001b[43m.\u001b[49m\u001b[43m_execute\u001b[49m\u001b[43m(\u001b[49m\u001b[43mCommand\u001b[49m\u001b[43m.\u001b[49m\u001b[43mCLICK_ELEMENT\u001b[49m\u001b[43m)\u001b[49m\n",
      "\u001b[36mFile \u001b[39m\u001b[32mc:\\Users\\leoac\\Work\\Companies\\Loomy\\.venv\\Lib\\site-packages\\selenium\\webdriver\\remote\\webelement.py:573\u001b[39m, in \u001b[36mWebElement._execute\u001b[39m\u001b[34m(self, command, params)\u001b[39m\n\u001b[32m    571\u001b[39m     params = {}\n\u001b[32m    572\u001b[39m params[\u001b[33m\"\u001b[39m\u001b[33mid\u001b[39m\u001b[33m\"\u001b[39m] = \u001b[38;5;28mself\u001b[39m._id\n\u001b[32m--> \u001b[39m\u001b[32m573\u001b[39m \u001b[38;5;28;01mreturn\u001b[39;00m \u001b[38;5;28;43mself\u001b[39;49m\u001b[43m.\u001b[49m\u001b[43m_parent\u001b[49m\u001b[43m.\u001b[49m\u001b[43mexecute\u001b[49m\u001b[43m(\u001b[49m\u001b[43mcommand\u001b[49m\u001b[43m,\u001b[49m\u001b[43m \u001b[49m\u001b[43mparams\u001b[49m\u001b[43m)\u001b[49m\n",
      "\u001b[36mFile \u001b[39m\u001b[32mc:\\Users\\leoac\\Work\\Companies\\Loomy\\.venv\\Lib\\site-packages\\selenium\\webdriver\\remote\\webdriver.py:458\u001b[39m, in \u001b[36mWebDriver.execute\u001b[39m\u001b[34m(self, driver_command, params)\u001b[39m\n\u001b[32m    455\u001b[39m response = cast(RemoteConnection, \u001b[38;5;28mself\u001b[39m.command_executor).execute(driver_command, params)\n\u001b[32m    457\u001b[39m \u001b[38;5;28;01mif\u001b[39;00m response:\n\u001b[32m--> \u001b[39m\u001b[32m458\u001b[39m     \u001b[38;5;28;43mself\u001b[39;49m\u001b[43m.\u001b[49m\u001b[43merror_handler\u001b[49m\u001b[43m.\u001b[49m\u001b[43mcheck_response\u001b[49m\u001b[43m(\u001b[49m\u001b[43mresponse\u001b[49m\u001b[43m)\u001b[49m\n\u001b[32m    459\u001b[39m     response[\u001b[33m\"\u001b[39m\u001b[33mvalue\u001b[39m\u001b[33m\"\u001b[39m] = \u001b[38;5;28mself\u001b[39m._unwrap_value(response.get(\u001b[33m\"\u001b[39m\u001b[33mvalue\u001b[39m\u001b[33m\"\u001b[39m, \u001b[38;5;28;01mNone\u001b[39;00m))\n\u001b[32m    460\u001b[39m     \u001b[38;5;28;01mreturn\u001b[39;00m response\n",
      "\u001b[36mFile \u001b[39m\u001b[32mc:\\Users\\leoac\\Work\\Companies\\Loomy\\.venv\\Lib\\site-packages\\selenium\\webdriver\\remote\\errorhandler.py:232\u001b[39m, in \u001b[36mErrorHandler.check_response\u001b[39m\u001b[34m(self, response)\u001b[39m\n\u001b[32m    230\u001b[39m         alert_text = value[\u001b[33m\"\u001b[39m\u001b[33malert\u001b[39m\u001b[33m\"\u001b[39m].get(\u001b[33m\"\u001b[39m\u001b[33mtext\u001b[39m\u001b[33m\"\u001b[39m)\n\u001b[32m    231\u001b[39m     \u001b[38;5;28;01mraise\u001b[39;00m exception_class(message, screen, stacktrace, alert_text)  \u001b[38;5;66;03m# type: ignore[call-arg]  # mypy is not smart enough here\u001b[39;00m\n\u001b[32m--> \u001b[39m\u001b[32m232\u001b[39m \u001b[38;5;28;01mraise\u001b[39;00m exception_class(message, screen, stacktrace)\n",
      "\u001b[31mElementClickInterceptedException\u001b[39m: Message: element click intercepted: Element is not clickable at point (784, 662)\n  (Session info: chrome=140.0.7339.128); For documentation on this error, please visit: https://www.selenium.dev/documentation/webdriver/troubleshooting/errors#elementclickinterceptedexception\nStacktrace:\n\tGetHandleVerifier [0x0xc70c13+66051]\n\tGetHandleVerifier [0x0xc70c54+66116]\n\t(No symbol) [0x0xa4db33]\n\t(No symbol) [0x0xa9dd90]\n\t(No symbol) [0x0xa9c0f3]\n\t(No symbol) [0x0xa99ba7]\n\t(No symbol) [0x0xa98e2d]\n\t(No symbol) [0x0xa8d335]\n\t(No symbol) [0x0xab9f8c]\n\t(No symbol) [0x0xa8cd94]\n\t(No symbol) [0x0xaba144]\n\t(No symbol) [0x0xadb7f1]\n\t(No symbol) [0x0xab9d86]\n\t(No symbol) [0x0xa8b53e]\n\t(No symbol) [0x0xa8c414]\n\tGetHandleVerifier [0x0xeb8a13+2457603]\n\tGetHandleVerifier [0x0xeb39d2+2437058]\n\tGetHandleVerifier [0x0xc997f2+232930]\n\tGetHandleVerifier [0x0xc89a18+167944]\n\tGetHandleVerifier [0x0xc9092d+196381]\n\tGetHandleVerifier [0x0xc78ee8+99544]\n\tGetHandleVerifier [0x0xc79082+99954]\n\tGetHandleVerifier [0x0xc6322a+10266]\n\tBaseThreadInitThunk [0x0x76285d49+25]\n\tRtlInitializeExceptionChain [0x0x771ed6db+107]\n\tRtlGetAppContainerNamedObjectPath [0x0x771ed661+561]\n"
     ]
    }
   ],
   "source": [
    "ladle.driver.get(\"https://www.agenziaentrate.gov.it/portale/web/guest/archivio/normativa-prassi-archivio-documentazione/provvedimenti/provvedimenti-soggetti\")\n",
    "try:\n",
    "    ladle.clicks.click('//*[@id=\"closePopup\"]')\n",
    "except Exception as e:\n",
    "    print(f\"Site opened with no popup showing\")\n",
    "\n",
    "elements = ladle.elements.elements('/html/body/div[1]/div/div/div/div[3]/div/div/div[3]/main/div[*]/div/div/section/div/div[2]/div/div/div/div/p/a')\n",
    "for i in range(len(elements)):\n",
    "    # Save current page URL to return after visiting subsection. Years page.\n",
    "    last_page_url = ladle.driver.current_url\n",
    "    ladle.clicks.click(f'/html/body/div[1]/div/div/div/div[3]/div/div/div[3]/main/div[{2+i}]/div/div/section/div/div[2]/div/div/div/div/p/a')\n",
    "\n",
    "    # Re-capture elements on the new page (avoid stale references)\n",
    "    elements = ladle.elements.elements('/html/body/div[4]/div/div/div/div[3]/div/div/div[3]/main/div[2]/div/div/section/div/div[2]/div/div[*]/p/a')\n",
    "\n",
    "    for j in range(len(elements)):\n",
    "        # Save current inner page URL to return after visiting detail link. Months page.\n",
    "        inner_last_page_url = ladle.driver.current_url\n",
    "        # Div changes dynamically from 4 to 1\n",
    "        try:\n",
    "            ladle.clicks.click(f\"/html/body/div[4]/div/div/div/div[3]/div/div/div[3]/main/div[2]/div/div/section/div/div[2]/div/div[{1+j}]/p/a\")\n",
    "        except Exception as e:\n",
    "            ladle.clicks.click(f\"/html/body/div[1]/div/div/div/div[3]/div/div/div[3]/main/div[2]/div/div/section/div/div[2]/div/div[{1+j}]/p/a\")\n",
    "\n",
    "        # Document harvesting\n",
    "        elements = ladle.elements.elements('//*[@id=\"portlet_com_liferay_asset_publisher_web_portlet_AssetPublisherPortlet_INSTANCE_bpfu\"]/div/div[2]/div/div[*]/div/p/a')\n",
    "        for h in range(len(elements)):\n",
    "\n",
    "            doc_xpath = f'//*[@id=\"portlet_com_liferay_asset_publisher_web_portlet_AssetPublisherPortlet_INSTANCE_bpfu\"]/div/div[2]/div/div[{1+h}]/div/p/a'\n",
    "            doc_elem = ladle.elements.element(doc_xpath)\n",
    "            \n",
    "            if ladle.elements.element(doc_xpath).text.endswith('pdf'):\n",
    "                doc_url = ladle.elements.element(doc_xpath).get_attribute('href')\n",
    "                pdf_content = extract_pdf_content(doc_url)\n",
    "\n",
    "                # assemble python object\n",
    "                pdf_obj = {\n",
    "                    \"url\": doc_url,\n",
    "                    \"bytes\": pdf_content['pdf_bytes'],\n",
    "                    \"text\": pdf_content['pdf_text']\n",
    "                }\n",
    "                # Load the doc to gcp storage\n",
    "                # TODO: implement upload to GCP\n",
    "            else:\n",
    "                print(f\"{doc_elem.text} is not a PDF, stepping into folder...\")\n",
    "\n",
    "                # Save current doc list page URL to return to after visiting the folder\n",
    "                doc_list_page_url = ladle.driver.current_url\n",
    "\n",
    "                ladle.clicks.click(doc_xpath)\n",
    "\n",
    "                # Explore folder contents\n",
    "                elements = ladle.elements.elements('//*[@id=\"portlet_com_liferay_asset_publisher_web_portlet_AssetPublisherPortlet_INSTANCE_enri\"]/div/div[2]/div/div/div[2]/div/div/ul/li[*]/a')\n",
    "                for k in range(len(elements)):\n",
    "                    # Save current folder_doc list page URL to return to after visiting the docs into the clicked folder\n",
    "                    folder_doc_list_page_url = ladle.driver.current_url\n",
    "\n",
    "                    folder_doc_xpath = f'//*[@id=\"portlet_com_liferay_asset_publisher_web_portlet_AssetPublisherPortlet_INSTANCE_enri\"]/div/div[2]/div/div/div[2]/div/div/ul/li[{1+k}]/a'\n",
    "                    folder_doc_elem = ladle.elements.element(folder_doc_xpath)\n",
    "                    if folder_doc_elem.text.endswith('pdf'):\n",
    "                        folder_doc_url = folder_doc_elem.get_attribute('href')\n",
    "                        folder_pdf_content = extract_pdf_content(folder_doc_url)\n",
    "\n",
    "                        # assemble python object\n",
    "                        folder_pdf_obj = {\n",
    "                            \"url\": folder_doc_url,\n",
    "                            \"bytes\": folder_pdf_content['pdf_bytes'],\n",
    "                            \"text\": folder_pdf_content['pdf_text']\n",
    "                        }\n",
    "                        # Load the doc to gcp storage\n",
    "                        # TODO: implement upload to GCP\n",
    "                    else:\n",
    "                        print(f\"{folder_doc_elem.text} is not a PDF, skipping...\")\n",
    "                        # ladle.clicks.click(folder_doc_xpath)\n",
    "                        # Don't do nothing (for now). Already on the folder doc list page if i don't click.\n",
    "                        # ladle.driver.get(folder_doc_list_page_url)\n",
    "                \n",
    "                # Return to doc list page\n",
    "                ladle.driver.get(doc_list_page_url)\n",
    "\n",
    "        # Return to inner list using URL instead of back\n",
    "        ladle.driver.get(inner_last_page_url)\n",
    "\n",
    "    # Return to outer list using URL instead of back\n",
    "    ladle.driver.get(last_page_url)"
   ]
  },
  {
   "cell_type": "code",
   "execution_count": null,
   "id": "57dd8d0c",
   "metadata": {},
   "outputs": [
    {
     "name": "stdout",
     "output_type": "stream",
     "text": [
      "https://www.agenziaentrate.gov.it/portale/2025-provvedimenti-del-direttore-soggetti-a-pubblicita\n"
     ]
    }
   ],
   "source": [
    "j = 1\n"
   ]
  },
  {
   "cell_type": "code",
   "execution_count": 6,
   "id": "298a5af9",
   "metadata": {},
   "outputs": [
    {
     "name": "stdout",
     "output_type": "stream",
     "text": [
      "Approvazione del modello di notifica per l’individuazione del soggetto tenuto a presentare la comunicazione rilevante, di cui all’articolo 3 del decreto del Vice Ministro dell’Economia e delle finanze del 25 febbraio 2025, e definizione delle relative modalità di trasmissione is not a PDF, stepping into folder...\n",
      "Modello - Notifica per l’individuazione del soggetto tenuto a presentare la comunicazione rilevante is not a PDF, skipping...\n",
      "Istruzioni per la compilazione is not a PDF, skipping...\n"
     ]
    },
    {
     "ename": "TimeoutException",
     "evalue": "Message: \nStacktrace:\n\tGetHandleVerifier [0x0xead2a3+66419]\n\tGetHandleVerifier [0x0xead2e4+66484]\n\t(No symbol) [0x0xc84bd3]\n\t(No symbol) [0x0xcce958]\n\t(No symbol) [0x0xccecfb]\n\t(No symbol) [0x0xd15152]\n\t(No symbol) [0x0xcf1064]\n\t(No symbol) [0x0xd128a1]\n\t(No symbol) [0x0xcf0e16]\n\t(No symbol) [0x0xcc25ce]\n\t(No symbol) [0x0xcc34a4]\n\tGetHandleVerifier [0x0x10f5ee3+2461619]\n\tGetHandleVerifier [0x0x10f0f66+2441270]\n\tGetHandleVerifier [0x0xed6242+234258]\n\tGetHandleVerifier [0x0xec6208+168664]\n\tGetHandleVerifier [0x0xecd1ad+197245]\n\tGetHandleVerifier [0x0xeb55f8+100040]\n\tGetHandleVerifier [0x0xeb5792+100450]\n\tGetHandleVerifier [0x0xe9f74a+10266]\n\tBaseThreadInitThunk [0x0x769d5d49+25]\n\tRtlInitializeExceptionChain [0x0x77a8d6db+107]\n\tRtlGetAppContainerNamedObjectPath [0x0x77a8d661+561]\n",
     "output_type": "error",
     "traceback": [
      "\u001b[31m---------------------------------------------------------------------------\u001b[39m",
      "\u001b[31mTimeoutException\u001b[39m                          Traceback (most recent call last)",
      "\u001b[36mCell\u001b[39m\u001b[36m \u001b[39m\u001b[32mIn[6]\u001b[39m\u001b[32m, line 4\u001b[39m\n\u001b[32m      2\u001b[39m \u001b[38;5;28;01mfor\u001b[39;00m h \u001b[38;5;129;01min\u001b[39;00m \u001b[38;5;28mrange\u001b[39m(\u001b[38;5;28mlen\u001b[39m(elements)):\n\u001b[32m      3\u001b[39m     doc_xpath = \u001b[33mf\u001b[39m\u001b[33m'\u001b[39m\u001b[33m//*[@id=\u001b[39m\u001b[33m\"\u001b[39m\u001b[33mportlet_com_liferay_asset_publisher_web_portlet_AssetPublisherPortlet_INSTANCE_bpfu\u001b[39m\u001b[33m\"\u001b[39m\u001b[33m]/div/div[2]/div/div[\u001b[39m\u001b[38;5;132;01m{\u001b[39;00m\u001b[32m1\u001b[39m+h\u001b[38;5;132;01m}\u001b[39;00m\u001b[33m]/div/p/a\u001b[39m\u001b[33m'\u001b[39m\n\u001b[32m----> \u001b[39m\u001b[32m4\u001b[39m     doc_elem = \u001b[43mladle\u001b[49m\u001b[43m.\u001b[49m\u001b[43melements\u001b[49m\u001b[43m.\u001b[49m\u001b[43melement\u001b[49m\u001b[43m(\u001b[49m\u001b[43mdoc_xpath\u001b[49m\u001b[43m)\u001b[49m\n\u001b[32m      5\u001b[39m     \u001b[38;5;28;01mif\u001b[39;00m ladle.elements.element(doc_xpath).text.endswith(\u001b[33m'\u001b[39m\u001b[33mpdf\u001b[39m\u001b[33m'\u001b[39m):\n\u001b[32m      6\u001b[39m         doc_url = ladle.elements.element(doc_xpath).get_attribute(\u001b[33m'\u001b[39m\u001b[33mhref\u001b[39m\u001b[33m'\u001b[39m)\n",
      "\u001b[36mFile \u001b[39m\u001b[32mc:\\Users\\leoac\\Work\\Companies\\Loomy\\.venv\\Lib\\site-packages\\ladle\\ladle.py:38\u001b[39m, in \u001b[36mElements.element\u001b[39m\u001b[34m(self, xpath, timeout, text)\u001b[39m\n\u001b[32m     37\u001b[39m \u001b[38;5;28;01mdef\u001b[39;00m\u001b[38;5;250m \u001b[39m\u001b[34melement\u001b[39m(\u001b[38;5;28mself\u001b[39m, xpath: \u001b[38;5;28mstr\u001b[39m, timeout: \u001b[38;5;28mfloat\u001b[39m = \u001b[32m10\u001b[39m, text: \u001b[38;5;28mbool\u001b[39m = \u001b[38;5;28;01mFalse\u001b[39;00m):\n\u001b[32m---> \u001b[39m\u001b[32m38\u001b[39m     element = \u001b[43mWebDriverWait\u001b[49m\u001b[43m(\u001b[49m\u001b[38;5;28;43mself\u001b[39;49m\u001b[43m.\u001b[49m\u001b[43mdriver\u001b[49m\u001b[43m,\u001b[49m\u001b[43m \u001b[49m\u001b[43mtimeout\u001b[49m\u001b[43m)\u001b[49m\u001b[43m.\u001b[49m\u001b[43muntil\u001b[49m\u001b[43m(\u001b[49m\n\u001b[32m     39\u001b[39m \u001b[43m        \u001b[49m\u001b[43mEC\u001b[49m\u001b[43m.\u001b[49m\u001b[43mpresence_of_element_located\u001b[49m\u001b[43m(\u001b[49m\u001b[43m(\u001b[49m\u001b[43mBy\u001b[49m\u001b[43m.\u001b[49m\u001b[43mXPATH\u001b[49m\u001b[43m,\u001b[49m\u001b[43m \u001b[49m\u001b[43mxpath\u001b[49m\u001b[43m)\u001b[49m\u001b[43m)\u001b[49m\n\u001b[32m     40\u001b[39m \u001b[43m    \u001b[49m\u001b[43m)\u001b[49m\n\u001b[32m     41\u001b[39m     \u001b[38;5;28;01mreturn\u001b[39;00m element.text \u001b[38;5;28;01mif\u001b[39;00m text \u001b[38;5;28;01melse\u001b[39;00m element\n",
      "\u001b[36mFile \u001b[39m\u001b[32mc:\\Users\\leoac\\Work\\Companies\\Loomy\\.venv\\Lib\\site-packages\\selenium\\webdriver\\support\\wait.py:138\u001b[39m, in \u001b[36mWebDriverWait.until\u001b[39m\u001b[34m(self, method, message)\u001b[39m\n\u001b[32m    136\u001b[39m         \u001b[38;5;28;01mbreak\u001b[39;00m\n\u001b[32m    137\u001b[39m     time.sleep(\u001b[38;5;28mself\u001b[39m._poll)\n\u001b[32m--> \u001b[39m\u001b[32m138\u001b[39m \u001b[38;5;28;01mraise\u001b[39;00m TimeoutException(message, screen, stacktrace)\n",
      "\u001b[31mTimeoutException\u001b[39m: Message: \nStacktrace:\n\tGetHandleVerifier [0x0xead2a3+66419]\n\tGetHandleVerifier [0x0xead2e4+66484]\n\t(No symbol) [0x0xc84bd3]\n\t(No symbol) [0x0xcce958]\n\t(No symbol) [0x0xccecfb]\n\t(No symbol) [0x0xd15152]\n\t(No symbol) [0x0xcf1064]\n\t(No symbol) [0x0xd128a1]\n\t(No symbol) [0x0xcf0e16]\n\t(No symbol) [0x0xcc25ce]\n\t(No symbol) [0x0xcc34a4]\n\tGetHandleVerifier [0x0x10f5ee3+2461619]\n\tGetHandleVerifier [0x0x10f0f66+2441270]\n\tGetHandleVerifier [0x0xed6242+234258]\n\tGetHandleVerifier [0x0xec6208+168664]\n\tGetHandleVerifier [0x0xecd1ad+197245]\n\tGetHandleVerifier [0x0xeb55f8+100040]\n\tGetHandleVerifier [0x0xeb5792+100450]\n\tGetHandleVerifier [0x0xe9f74a+10266]\n\tBaseThreadInitThunk [0x0x769d5d49+25]\n\tRtlInitializeExceptionChain [0x0x77a8d6db+107]\n\tRtlGetAppContainerNamedObjectPath [0x0x77a8d661+561]\n"
     ]
    }
   ],
   "source": [
    "\n",
    "elements = ladle.elements.elements('//*[@id=\"portlet_com_liferay_asset_publisher_web_portlet_AssetPublisherPortlet_INSTANCE_bpfu\"]/div/div[2]/div/div[*]/div/p/a')\n",
    "for h in range(len(elements)):\n",
    "    doc_xpath = f'//*[@id=\"portlet_com_liferay_asset_publisher_web_portlet_AssetPublisherPortlet_INSTANCE_bpfu\"]/div/div[2]/div/div[{1+h}]/div/p/a'\n",
    "    doc_elem = ladle.elements.element(doc_xpath)\n",
    "    if ladle.elements.element(doc_xpath).text.endswith('pdf'):\n",
    "        doc_url = ladle.elements.element(doc_xpath).get_attribute('href')\n",
    "        pdf_content = extract_pdf_content(doc_url)\n",
    "\n",
    "        # assemble python object\n",
    "        pdf_obj = {\n",
    "            \"url\": doc_url,\n",
    "            \"bytes\": pdf_content['pdf_bytes'],\n",
    "            \"text\": pdf_content['pdf_text']\n",
    "        }\n",
    "        # Load the doc to gcp storage\n",
    "        # TODO: implement upload to GCP\n",
    "    else:\n",
    "        print(f\"{doc_elem.text} is not a PDF, stepping into folder...\")\n",
    "        ladle.clicks.click(doc_xpath)\n",
    "        # Explore folder contents\n",
    "        elements = ladle.elements.elements('//*[@id=\"portlet_com_liferay_asset_publisher_web_portlet_AssetPublisherPortlet_INSTANCE_enri\"]/div/div[2]/div/div/div[2]/div/div/ul/li[*]/a')\n",
    "        for k in range(len(elements)):\n",
    "            folder_doc_xpath = f'//*[@id=\"portlet_com_liferay_asset_publisher_web_portlet_AssetPublisherPortlet_INSTANCE_enri\"]/div/div[2]/div/div/div[2]/div/div/ul/li[{1+k}]/a'\n",
    "            folder_doc_elem = ladle.elements.element(folder_doc_xpath)\n",
    "            if folder_doc_elem.text.endswith('pdf'):\n",
    "                folder_doc_url = folder_doc_elem.get_attribute('href')\n",
    "                folder_pdf_content = extract_pdf_content(folder_doc_url)\n",
    "\n",
    "                # assemble python object\n",
    "                folder_pdf_obj = {\n",
    "                    \"url\": folder_doc_url,\n",
    "                    \"bytes\": folder_pdf_content['pdf_bytes'],\n",
    "                    \"text\": folder_pdf_content['pdf_text']\n",
    "                }\n",
    "                # Load the doc to gcp storage\n",
    "                # TODO: implement upload to GCP\n",
    "            else:\n",
    "                print(f\"{folder_doc_elem.text} is not a PDF, skipping...\")\n",
    "                # ladle.clicks.click(folder_doc_xpath)\n",
    "                # ladle.driver.back()  # Go back to previous page\n",
    "        ladle.driver.back()\n",
    "ladle.driver.back()"
   ]
  },
  {
   "cell_type": "code",
   "execution_count": 8,
   "id": "9a529a22",
   "metadata": {},
   "outputs": [
    {
     "data": {
      "text/plain": [
       "'_________________________________________________________________________________ \\nAgenzia delle Entrate – Direzione Regionale del Lazio – Settore Servizi –Ufficio Servizi Fiscali – \\n Via Marcello Boglione 73/81– 00155 Roma – e-mail: dr.lazio.sf@agenziaentrate.it \\n \\n \\n \\n \\n \\nProt. n. 74563 del 11/08/2025 \\nAutorizzazione alla società CAF LAVORO S.R.L., C.F. 18008711006, a esercitare \\nl’attività di assistenza fiscale nei confronti dei lavoratori dipendenti e pensionati \\n \\nIL DIRETTORE REGIONALE  \\nin base alle attribuzioni conferitegli dalle norme riportate nel seguito del presente \\nprovvedimento \\nDISPONE \\nche la società CAF LAVORO S.R.L., C.F. 18008711006, con sede in Via Angelo Bargoni \\nn. 8, 00153, Roma, è autorizzata: \\n1. ad esercitare l’attività di assistenza fiscale nei confronti dei lavoratori dipendenti \\ne pensionati ai sensi degli articoli 32, comma 1, lettera d), e 34 del d.lgs. 9 luglio \\n1997, n. 241; \\n2. ad utilizzare la parola “CAF” e “Centro di assistenza fiscale” dopo l’avvenuta \\niscrizione all’Albo dei Centri di assistenza fiscale per i lavoratori dipendenti in \\nbase all’articolo 9 del d.m. 31 maggio 1999, n. 164. \\nMotivazioni \\nCon istanza prot. n. 51697/RU del 9 giugno 2025, la società denominata \\nCAF LAVORO S.R.L., C.F. 18008711006, con sede legale in Via Angelo Bargoni n. 8, \\n00153, Roma, in persona del suo amministratore unico e legale rappresentante pro \\ntempore Cuomo Angela, C.F. OMISSIS, ha chiesto l’autorizzazione allo svolgimento \\ndell’attività di assistenza fiscale nei confronti dei lavoratori dipendenti e pensionati ai \\nsensi degli articoli 32, comma 1, lett. d) e 34 del d.lgs. n. 241 del 1997. \\nLa suindicata domanda, a seguito di specifica comunicazione prot. n. 64428/RU del \\n14 luglio 2025 ai sensi dell’art. 7, comma 3, d.m. n. 164 del 1999, è stata integrata con \\nnote protocollate ai n. 68458/RU del 24 luglio 2025 e n. 72229/RU del 4 agosto 2025. \\n \\n \\nDirezione Regionale del Lazio \\n\\n\\n2 \\n \\n_________________________________________________________________________________ \\nAgenzia delle Entrate – Direzione Regionale del Lazio – Settore Servizi –Ufficio Servizi Fiscali – \\nVia Marcello Boglione 73/81– 00155 Roma – e-mail: dr.lazio.sf@agenziaentrate.it \\n \\nSulla base dei dati presenti nel sistema informativo dell’Agenzia delle Entrate e \\ndella documentazione prodotta, risulta che: \\n1. la società CAF LAVORO S.R.L. è stata costituita con atto stilato dal notaio Altieri \\nRoberto, repertorio n. 23065 e raccolta n. 14980, registrato presso la Direzione \\nProvinciale I di Napoli in data 7 marzo 2025, serie 1T, n. 10136;  \\n2. socio unico della società CAF LAVORO S.R.L. è l’associazione FEALT-\\nCONFSAL – Federazione Europea Autonoma dei Lavoratori Temporanei, C.F. \\n07641701003, con sede in viale Trastevere n. 60, 00153, Roma; \\n3. la FEALT-CONFSAL – Federazione Europea Autonoma dei Lavoratori \\nTemporanei, C.F. 07641701003, è un’organizzazione sindacale che dichiara di \\navere \\ncomplessivamente \\nalmeno \\ncinquantamila \\naderenti \\ned \\nesercita \\nconcretamente un’attività finalizzata alla tutela sindacale dei lavoratori \\ndipendenti e/o dei pensionati; \\n4. la società CAF LAVORO S.R.L., come indicato nel proprio atto costitutivo e nello \\nstatuto, ha per oggetto lo svolgimento dell’attività di assistenza fiscale prevista \\ndall’art. 34 del d.lgs. n. 241 del 1997 a favore dei contribuenti non titolari di \\nlavoro autonomo e d’impresa; \\n5. il capitale sociale della società CAF LAVORO S.R.L., deliberato e sottoscritto in \\nmisura pari a euro 60.000,00, è stato interamente versato; \\n6. la società CAF LAVORO S.R.L. ha sottoscritto la polizza n. PI-00LFMA2550, in \\ndata 22 maggio 2025, con la compagnia Arch Insurance (EU) DAC – \\nRappresentante Generale per l’Italia, per il tramite di Dual Italia S.p.A. e con \\nl’intemerdiario Howden S.p.A., successivamente integrata dalle Appendici n. PI-\\n00LFMA2550/2 e n. PI-00LFMA2550/3 del 31 luglio 2025, con scadenza 22 \\nmaggio 2026, massimale di euro 3.000.000,00 e clausola di postuma per la \\ncopertura dei danni denunciati entro cinque anni dalla scadenza; \\n7. la società CAF LAVORO S.R.L. ha designato come revisore legale il dott. Di \\nMartino Gennaro, C.F. OMISSIS, iscritto nel Registro dei revisori legali dal 17 \\nmarzo 2015, n. 174399; \\n8. la società CAF LAVORO S.R.L. ha designato come responsabili dell’assistenza \\nfiscale il dott. Marotta Nicola, C.F. OMISSIS, iscritto all’Ordine dei Dottori \\nCommercialisti ed Esperti Contabili di Vallo della Lucania dal 19 febbraio 1999, \\nSezione A, n. 128, e il dott. Petruzzi Massimo, C.F. OMISSIS, iscritto all’Ordine \\ndei Dottori Commercialisti ed Esperti Contabili di Civitavecchia dal 23 luglio \\n1992, Sezione A, n. 75, che hanno specificamente accettato l’incarico; \\n9. la società CAF LAVORO S.R.L. ha trasmesso le dichiarazioni concernenti il \\npossesso dei requisiti richiesti dalla normativa di riferimento da parte dei \\nresponsabili dell’assistenza fiscale, dell’amministratore unico e del revisore \\nlegale; \\n\\n\\n3 \\n \\n_________________________________________________________________________________ \\nAgenzia delle Entrate – Direzione Regionale del Lazio – Settore Servizi –Ufficio Servizi Fiscali – \\nVia Marcello Boglione 73/81– 00155 Roma – e-mail: dr.lazio.sf@agenziaentrate.it \\n \\n10. la società CAF LAVORO S.R.L. ha prodotto una esaustiva relazione tecnica \\niniziale ai sensi dell’art. 7, comma 2, lett. d), dm. n. 164 del 1999.  \\nLa verifica della regolarità di quanto suindicato consente di accogliere l’istanza \\ndella società CAF LAVORO S.R.L., C.F. 18008711006, con sede legale in Via Angelo \\nBargoni n. 8, 00153, Roma, con conseguente autorizzazione della stessa a esercitare \\nl’attività di assistenza fiscale in qualità di CAF Dipendenti. \\n \\nLA DIRETTRICE REGIONALE AGGIUNTA \\nPatrizia Claps \\nFirmato digitalmente* \\n \\n                                                                                   *Firma su delega del Direttore regionale, Andrea Grassetti \\n \\n \\nUn originale del documento è archiviato presso l’Ufficio emittente. \\n \\n \\n \\n \\n \\n \\n \\n \\n \\n \\n \\n \\n \\n \\n \\n \\n \\n \\n\\n\\n4 \\n \\n_________________________________________________________________________________ \\nAgenzia delle Entrate – Direzione Regionale del Lazio – Settore Servizi –Ufficio Servizi Fiscali – \\nVia Marcello Boglione 73/81– 00155 Roma – e-mail: dr.lazio.sf@agenziaentrate.it \\n \\nInformativa \\nIl presente atto: \\n• è pubblicato, con valore di pubblicità legale, sul sito internet dell’Agenzia delle \\nEntrate ai sensi dell’art. 1, comma 361, della Legge 24 dicembre 2007, n. 244 \\n(Legge finanziaria 2008); \\n• è inviato alla Direzione centrale Servizi fiscali – Ufficio Assistenza agli \\nintermediari fiscali per l’iscrizione della società all’Albo dei Centri di assistenza \\nfiscale per i lavoratori dipendenti e pensionati; \\n• è notificato, tramite pec, alla società CAF LAVORO S.R.L., C.F. 18008711006, \\ncon sede legale in Via Angelo Bargoni n. 8, 00153, Roma, che curerà gli \\nadempimenti previsti per l’abilitazione telematica ENTRATEL. \\n \\nRiferimenti normativi \\n• d.lgs. 9 luglio 1997, n. 241 come modificato dal d.lgs. 28 dicembre 1998, n. 490 \\n– Soggetti abilitati alla costituzione dei Centri di assistenza fiscale (artt. 32-35); \\n• d.m. 31 maggio 1999, n. 164 – Regolamento recante norme per l’assistenza \\nfiscale; \\n• decreto MEF del 6 dicembre 2018, pubblicato sulla G.U. n. 295 del 20 dicembre \\n2018 – Modalità dell’attività formativa per lo svolgimento dell’attività di \\nassistenza fiscale, ai sensi dell’articolo 7, comma 2, lettera d), del decreto 31 \\nmaggio 1999, n. 164.   \\nAttribuzioni del Direttore Regionale dell’Agenzia delle Entrate \\n• d.m. 12 luglio 1999 – Attribuzione alle Direzioni regionali delle Entrate della \\ncompetenza all’autorizzazione all’attività di assistenza fiscale; \\n• Statuto dell’Agenzia delle Entrate (artt. 11 e 13, comma 1); \\n• Regolamento dell’Amministrazione dell’Agenzia delle Entrate (artt. 4 e 7, \\ncomma 1). \\n \\n'"
      ]
     },
     "execution_count": 8,
     "metadata": {},
     "output_type": "execute_result"
    }
   ],
   "source": [
    "pdf_obj['text']"
   ]
  },
  {
   "cell_type": "code",
   "execution_count": null,
   "id": "269ad066",
   "metadata": {},
   "outputs": [],
   "source": [
    "k = 0\n",
    "folder_doc_xpath = f'//*[@id=\"portlet_com_liferay_asset_publisher_web_portlet_AssetPublisherPortlet_INSTANCE_enri\"]/div/div[2]/div/div/div[2]/div/div/ul/li[{1+k}]/a'\n",
    "folder_doc_elem = ladle.elements.element(folder_doc_xpath)\n",
    "if folder_doc_elem.text.endswith('pdf'):\n",
    "    folder_doc_url = folder_doc_elem.get_attribute('href')\n",
    "    folder_pdf_content = extract_pdf_content(folder_doc_url)\n",
    "\n",
    "    # assemble python object\n",
    "    folder_pdf_obj = {\n",
    "        \"url\": folder_doc_url,\n",
    "        \"bytes\": folder_pdf_content['pdf_bytes'],\n",
    "        \"text\": folder_pdf_content['pdf_text']\n",
    "    }\n",
    "else:\n",
    "    print(f\"{folder_doc_elem.text} is not a PDF, skipping...\")\n",
    "    # ladle.clicks.click(folder_doc_xpath)"
   ]
  },
  {
   "cell_type": "code",
   "execution_count": 54,
   "id": "91b459f8",
   "metadata": {},
   "outputs": [
    {
     "data": {
      "text/plain": [
       "'Informativa sul trattamento \\ndei dati personali ai sensi \\ndegli artt. 13 e 14 del \\nRegolamento (UE) 2016/679 \\nCon questa informativa l’Agenzia delle entrate spiega come tratta i dati raccolti e quali sono i diritti riconosciuti all’interessato \\nai sensi del Regolamento (UE) 2016/679, relativo alla protezione delle persone fisiche con riguardo al trattamento dei dati per\\xad\\nsonali e del D.Lgs. 196/2003, in materia di protezione dei dati personali. \\nFinalità del trattamento\\nI dati forniti con questo modello verranno trattati dall’Agenzia delle entrate per le attività connesse alla notifica di cui articolo \\n3 del decreto del Vice Ministro dell’economia e delle finanze 25 febbraio 2025, da trasmettere al fine di individuare il soggetto \\ntenuto alla presentazione della comunicazione rilevante per conto delle imprese localizzate nel territorio dello Stato italiano e \\ndelle entità apolidi costituite in base alla legge dello Stato italiano, rientranti nell’ambito applicativo dell’imposizione integrativa \\ndi cui al titolo II del decreto legislativo 27 dicembre 2023, n. 209. I dati potranno essere utilizzati al fine di individuare contri\\xad\\nbuenti con profili di elevato rischio di evasione, di frode o di elusione fiscale, così come previsto dalla normativa in materia.  \\nConferimento dei dati\\nI dati richiesti devono essere forniti obbligatoriamente per potersi avvalere degli effetti della notifica. L’omissione e/o l’indica\\xad\\nzione non veritiera di dati può far incorrere in sanzioni amministrative o, in alcuni casi, penali. \\nBase giuridica \\nLa base giuridica del trattamento è da individuarsi nell’esercizio di pubblici poteri connessi allo svolgimento delle attività di \\nliquidazione e accertamento di cui è investita l’Agenzia delle Entrate (art. 6, §1 lett. e) del Regolamento), in base a quanto pre\\xad\\nvisto dalla normativa di settore. L’articolo 3 del decreto del Vice Ministro dell’economia e delle finanze 25 febbraio 2025 pre\\xad\\nvede che la notifica deve essere trasmessa all’Agenzia delle entrate e che produce effetti per l’esercizio con riferimento al quale \\nla comunicazione rilevante si riferisce e anche per gli esercizi successivi, sempre che non intervengano revoche della scelta effet\\xad\\ntuata ai sensi dell’art. 2 del citato decreto ministeriale o modifiche alle informazioni e ai dati precedentemente comunicati.  \\nPeriodo di  \\nconservazione dei dati \\nI dati saranno conservati fino al 31 dicembre dell’undicesimo anno successivo a quello di presentazione del modello di notifica \\novvero entro il maggior termine per la definizione di eventuali procedimenti giurisdizionali o per rispondere a richieste da parte \\ndell’Autorità giudiziaria. \\nCategorie di destinatari  \\ndei dati personali\\nI suoi dati personali saranno trattati dai soggetti designati dal Titolare quali Responsabili, ovvero dalle persone autorizzate al \\ntrattamento dei dati personali che operano sotto l’autorità diretta del Titolare, o del Responsabile. Al di fuori di queste ipotesi, \\ni suoi dati non saranno diffusi, né saranno comunicati a terzi; tuttavia, se necessario, potranno essere comunicati:  \\n– ai soggetti cui la comunicazione dei dati debba essere effettuata in adempimento di un obbligo previsto dalla legge, da un \\nregolamento, da un atto amministrativo generale o dalla normativa comunitaria, ovvero per adempiere ad un ordine \\ndell’Autorità giudiziaria;  \\n– ad altri eventuali soggetti terzi, qualora la comunicazione si dovesse rendere necessaria per la tutela di Agenzia in sede giu\\xad\\ndiziaria, nel rispetto delle vigenti disposizioni in materia di protezione dei dati personali.  \\nTrasferimento dati all’estero\\nI dati personali saranno trattati anche con strumenti automatizzati per il tempo strettamente necessario a conseguire gli scopi \\nper cui sono stati raccolti. L’Agenzia delle entrate attua idonee misure per garantire che i dati forniti vengano trattati in modo \\nadeguato e conforme alle finalità per cui vengono gestiti; l’Agenzia delle entrate impiega idonee misure di sicurezza, organiz\\xad\\nzative, tecniche e fisiche, per tutelare le informazioni dall’alterazione, dalla distruzione, dalla perdita, dal furto o dall’utilizzo \\nimproprio o illegittimo. Il modello può essere consegnato a soggetti intermediari individuati dalla legge (centri di assistenza, \\nassociazioni di categoria e professionisti) che tratteranno i dati esclusivamente per la finalità di trasmissione del modello \\nall’Agenzia delle entrate. Per la sola attività di trasmissione, gli intermediari assumono la qualifica di “titolare del trattamento” \\nquando i dati entrano nella loro disponibilità e sotto il loro diretto controllo.  \\nTitolare del Trattamento\\nTitolare del trattamento dei dati personali è l’Agenzia delle entrate, con sede in Roma, via Giorgione n. 106 - 00147. \\nResponsabili del trattamento\\nL’Agenzia delle entrate si avvale di Sogei Spa, in qualità di partner tecnologico e metodologico, al quale sono affidate la gestione del \\nsistema informativo dell’Anagrafe tributaria, designata per questo responsabile del trattamento ai sensi dell’art. 28 del Regolamento \\n(UE) 2016/679.  \\nResponsabile della \\nProtezione dei Dati\\nIl dato di contatto del Responsabile della Protezione dei Dati dell’Agenzia delle entrate è: entrate.dpo@agenziaentrate.it per le \\nquestioni relative al trattamento dei dati personali. \\nDiritti dell’interessato\\nL’interessato ha il diritto, in qualunque momento, di ottenere la conferma dell’esistenza o meno dei dati forniti anche attraverso \\nla consultazione all’interno della propria area riservata, area Consultazioni del sito web dell’Agenzia delle entrate. I diritti pre\\xad\\nvisti dagli artt. 15 e ss. del Regolamento possono essere esercitati alternativamente tramite: \\n- applicazione web disponibile nell’area riservata del sito dell’Agenzia delle entrate  \\n- apposito form in area libera del sito dell’Agenzia delle entrate che guida l’utente nelle diverse fasi di redazione dell’istanza  \\n- posta ordinaria o raccomandata a/r all’indirizzo Via Giorgione n.106 – 00147 Roma  \\n- posta elettronica certificata all’indirizzo eserciziodiritti@pec.agenziaentrate.it.  \\nQualora l’interessato ritenga che il trattamento sia avvenuto in modo non conforme al Regolamento e al D.Lgs. 196/2003, \\npotrà rivolgersi al Garante per la Protezione dei dati Personali, ai sensi dell’art. 77 del medesimo Regolamento. Ulteriori infor\\xad\\nmazioni in ordine ai suoi diritti sulla protezione dei dati personali sono reperibili sul sito web del Garante per la Protezione dei \\nDati Personali all’indirizzo www.garanteprivacy.it.  \\nConsenso\\nL’Agenzia delle entrate, in quanto soggetto pubblico, non deve acquisire il consenso degli interessati per trattare i loro dati per\\xad\\nsonali. Gli intermediari non devono acquisire il consenso degli interessati per il trattamento dei dati in quanto è previsto dalla \\nlegge.  \\nModifiche\\nL’Agenzia delle entrate si riserva il diritto di apportare alla presente informativa, a propria esclusiva discrezione ed in qualun\\xad\\nque momento, tutte le modifiche ritenute opportune o rese obbligatorie dalle norme di volta in volta vigenti, dandone adeguata \\npubblicità nella sezione dedicata del sito internet www.agenziaentrate.gov.it.  \\nLa presente informativa viene data in generale per tutti i titolari del trattamento sopra indicati.\\nNOTIFICA PER L’INDIVIDUAZIONE DEL SOGGETTO TENUTO \\nA PRESENTARE LA COMUNICAZIONE RILEVANTE  \\n \\n(Art. 51 del decreto legislativo 27 dicembre 2023, n. 209, e decreto \\ndel Vice Ministro dell’economia e delle finanze 25 febbraio 2025) \\n\\n\\nNOTIFICA PER L’INDIVIDUAZIONE DEL SOGGETTO TENUTO \\nA PRESENTARE LA COMUNICAZIONE RILEVANTE  \\n \\n(Art. 51 del decreto legislativo 27 dicembre 2023, n. 209, e decreto \\ndel Vice Ministro dell’economia e delle finanze 25 febbraio 2025) \\nCodice fiscale\\nPERIODO DI \\nRIFERIMENTO DELLA \\nNOTIFICA\\nSOGGETTO  \\nCHE TRASMETTE  \\nLA NOTIFICA\\nIMPEGNO ALLA \\nPRESENTAZIONE \\nTELEMATICA \\n \\nRiservato al \\nsoggetto incaricato\\nData dell’impegno\\nFIRMA \\ngiorno\\nmese\\nanno\\nRAPPRESENTANTE \\nFIRMATARIO\\nCodice fiscale società\\n   \\nmese\\ngiorno\\nanno\\nData fine\\n   \\nmese\\ngiorno\\nanno\\nData inizio\\nCodice fiscale \\nRuolo\\nCodice fiscale\\nRuolo\\nCodice \\ncarica\\nCodice fiscale\\nFIRMA\\nDa barrare nel caso in cui si intenda annullare la notifica precedentemente presentata\\nCognome\\nNome\\nTipologia (via, piazza, ecc.)\\nCodice \\ncomune\\nProvincia \\n(sigla)\\nC.a.p.\\nRecapito telefonico\\nP.e.c. o posta elettronica ordinaria\\nIndirizzo\\nN. civico\\nPERSONA  \\nDI CONTATTO\\nNumero protocollo di invio\\nCORRETTIVA/ \\nANNULLAMENTO\\nSOTTOSCRIZIONE \\nNOTIFICA\\n–\\n\\n\\nQUADRO A\\nMod. n.\\nCODICE FISCALE\\nSEZIONE II \\nIMPRESA LOCALE \\nDESIGNATA ALLA \\nPRESENTAZIONE DELLA CR\\nCodice fiscale\\n 4\\nDenominazione\\n 5\\nIndirizzo sede legale\\n \\nNome gruppo\\n \\n 1\\n 5\\nCodice fiscale\\nCodice fiscale\\nCodice fiscale\\nTrasmissione CR\\nCodice identificativo estero\\n 2\\nRevoca\\n 2\\nRevoca\\n 4\\nRevoca\\n 6\\nRevoca\\n 8\\nTrasmissione CR\\n 2\\nTrasmissione CR\\n 2\\nPaese di localizzazione\\n 6\\n 3\\nDenominazione\\n 4\\nIndirizzo sede legale\\nPaese di localizzazione\\n 5\\n 4\\nDenominazione\\n 5\\nIndirizzo sede legale\\nPaese di localizzazione\\n6\\n 1\\nSEZIONE III \\nSOGGETTO INTERESSATO  \\nDALLA NOTIFICA \\nSEZIONE IV \\nCONTROLLANTE \\nCAPOGRUPPO\\nSEZIONE V \\nIMPRESA DESIGNATA\\nCodice identificativo estero\\n 1\\nCodice fiscale\\nSEZIONE I \\nGRUPPO MULTINAZIONALE  \\nO NAZIONALE\\nSEZIONE VI \\nCONTROLLANTE \\nMULTIPLA\\nCodice identificativo estero\\n 1\\nCodice fiscale\\n 3\\nCodice fiscale\\n 7\\nCodice fiscale\\n 3\\n 2\\n 3\\n 4\\nDenominazione\\n 5\\nIndirizzo sede legale\\nPaese di localizzazione\\n6\\nCodice identificativo estero\\n 1\\nCodice fiscale\\n 3\\nA1\\nA2\\nA3\\nA4\\nA5\\nA6\\nA7\\n'"
      ]
     },
     "execution_count": 54,
     "metadata": {},
     "output_type": "execute_result"
    }
   ],
   "source": [
    "# pdf_obj['text']\n",
    "folder_pdf_obj['text']"
   ]
  },
  {
   "cell_type": "code",
   "execution_count": null,
   "id": "fc82c5a0",
   "metadata": {},
   "outputs": [],
   "source": [
    "@dataclass\n",
    "class DocumentRecord:\n",
    "    source_type: str\n",
    "    doc_id: str\n",
    "    title: str\n",
    "    url: str\n",
    "    collected_at: str\n",
    "    text_path: str\n",
    "    meta: Dict[str, Any] = field(default_factory=dict)\n",
    "\n",
    "    def to_dict(self):\n",
    "        d = asdict(self)\n",
    "        return d"
   ]
  }
 ],
 "metadata": {
  "kernelspec": {
   "display_name": ".venv",
   "language": "python",
   "name": "python3"
  },
  "language_info": {
   "codemirror_mode": {
    "name": "ipython",
    "version": 3
   },
   "file_extension": ".py",
   "mimetype": "text/x-python",
   "name": "python",
   "nbconvert_exporter": "python",
   "pygments_lexer": "ipython3",
   "version": "3.11.5"
  }
 },
 "nbformat": 4,
 "nbformat_minor": 5
}
