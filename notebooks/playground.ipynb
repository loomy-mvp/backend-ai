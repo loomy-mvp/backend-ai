{
 "cells": [
  {
   "cell_type": "code",
   "execution_count": 1,
   "id": "061bff37",
   "metadata": {},
   "outputs": [],
   "source": [
    "import uuid\n",
    "from pinecone import Pinecone, ServerlessSpec\n",
    "import cohere\n",
    "import openai\n",
    "import PyPDF2\n",
    "import os\n",
    "from dotenv import load_dotenv\n",
    "load_dotenv()\n",
    "\n",
    "PINECONE_API_KEY = os.getenv(\"PINECONE_API_KEY\")\n",
    "pc = Pinecone(api_key=PINECONE_API_KEY)\n",
    "\n",
    "# initialize cohere\n",
    "COHERE_API_KEY = os.getenv(\"COHERE_API_KEY\")\n",
    "co = cohere.Client(COHERE_API_KEY)\n",
    "embedding_model_name = \"embed-v4.0\"\n",
    "\n",
    "# openai doesn't need to be initialized, but need to set api key\n",
    "OPENAI_API_KEY = os.getenv(\"OPENAI_API_KEY\")"
   ]
  },
  {
   "cell_type": "code",
   "execution_count": 2,
   "id": "0f7197a3",
   "metadata": {},
   "outputs": [],
   "source": [
    "def extract_text_from_pdf(pdf_path):\n",
    "    \"\"\"Extract text content from a PDF file\"\"\"\n",
    "    try:\n",
    "        with open(pdf_path, 'rb') as file:\n",
    "            pdf_reader = PyPDF2.PdfReader(file)\n",
    "            text = \"\"\n",
    "            for page in pdf_reader.pages:\n",
    "                text += page.extract_text() + \"\\n\"\n",
    "        return text.strip()\n",
    "    except Exception as e:\n",
    "        print(f\"Error reading PDF: {e}\")\n",
    "        return None"
   ]
  },
  {
   "cell_type": "code",
   "execution_count": 3,
   "id": "12d391d8",
   "metadata": {},
   "outputs": [],
   "source": [
    "doc_text = extract_text_from_pdf(pdf_path=\"..\\kb\\Lecture_0.pdf\")"
   ]
  },
  {
   "cell_type": "code",
   "execution_count": 5,
   "id": "236e9291",
   "metadata": {},
   "outputs": [],
   "source": [
    "response = co.embed(\n",
    "    texts=[doc_text],\n",
    "    model=embedding_model_name,\n",
    "    input_type=\"search_document\",\n",
    "    embedding_types=[\"float\"]\n",
    ")"
   ]
  },
  {
   "cell_type": "code",
   "execution_count": 6,
   "id": "5d8a4249",
   "metadata": {},
   "outputs": [
    {
     "data": {
      "text/plain": [
       "1536"
      ]
     },
     "execution_count": 6,
     "metadata": {},
     "output_type": "execute_result"
    }
   ],
   "source": [
    "len(response.embeddings.float_[0]) # 1536"
   ]
  },
  {
   "cell_type": "code",
   "execution_count": null,
   "id": "387b21ed",
   "metadata": {},
   "outputs": [],
   "source": [
    "import cohere\n",
    "import pinecone\n",
    "import uuid\n",
    "\n",
    "# 1. Initialize clients\n",
    "co = cohere.Client(\"YOUR_COHERE_API_KEY\")\n",
    "pinecone.init(api_key=\"YOUR_PINECONE_API_KEY\", environment=\"YOUR_ENV\")  # e.g., us-west1-gcp\n",
    "\n",
    "# 2. Ensure index exists (or create it)\n",
    "INDEX_NAME = \"example-index\"\n",
    "if INDEX_NAME not in pinecone.list_indexes():\n",
    "    pinecone.create_index(\n",
    "        name=INDEX_NAME,\n",
    "        dimension=1024,        # must match your embedding size\n",
    "        metric=\"cosine\"\n",
    "    )\n",
    "index = pinecone.Index(INDEX_NAME)\n",
    "\n",
    "# 3. Your text to embed (embedded previously via Cohere)\n",
    "texts = [\n",
    "    \"First document text\",\n",
    "    \"Second doc text\",\n",
    "    # ...\n",
    "]\n",
    "\n",
    "# 4. Generate embeddings with Cohere\n",
    "response = co.embed(\n",
    "    texts=texts,\n",
    "    model=\"embed-english-v3.0\",\n",
    "    input_type=\"search_document\",\n",
    "    truncate=\"END\"\n",
    ")\n",
    "embeddings = response.embeddings  # list of vectors length 1024 :contentReference[oaicite:1]{index=1}\n",
    "\n",
    "# 5. Prepare records for upsert\n",
    "vectors = []\n",
    "for text, vec in zip(texts, embeddings):\n",
    "    # Use consistent unique IDs so you can re-upsert (updates instead of duplicates)\n",
    "    vid = str(uuid.uuid5(uuid.NAMESPACE_URL, text))\n",
    "    vectors.append((vid, vec, {\"text\": text}))\n",
    "\n",
    "# 6. Upsert (batching if many)\n",
    "index.upsert(vectors=vectors, namespace=\"my-namespace\")\n",
    "\n",
    "print(f\"Upserted {len(vectors)} vectors into {INDEX_NAME}\")\n"
   ]
  }
 ],
 "metadata": {
  "kernelspec": {
   "display_name": ".venv",
   "language": "python",
   "name": "python3"
  },
  "language_info": {
   "codemirror_mode": {
    "name": "ipython",
    "version": 3
   },
   "file_extension": ".py",
   "mimetype": "text/x-python",
   "name": "python",
   "nbconvert_exporter": "python",
   "pygments_lexer": "ipython3",
   "version": "3.11.5"
  }
 },
 "nbformat": 4,
 "nbformat_minor": 5
}
